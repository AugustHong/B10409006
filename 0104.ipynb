{
 "cells": [
  {
   "cell_type": "code",
   "execution_count": 4,
   "metadata": {
    "collapsed": false
   },
   "outputs": [
    {
     "name": "stdout",
     "output_type": "stream",
     "text": [
      "a: 50 b: 50 total: 100\n"
     ]
    }
   ],
   "source": [
    "def abc(func, a ,b):\n",
    "    print('a:', a, 'b:', b, 'total:', func(a,b))\n",
    "    \n",
    "def hello(a, b):\n",
    "    return a+b\n",
    "\n",
    "abc(hello, 50, 50)"
   ]
  },
  {
   "cell_type": "code",
   "execution_count": 5,
   "metadata": {
    "collapsed": false
   },
   "outputs": [
    {
     "name": "stdout",
     "output_type": "stream",
     "text": [
      "a: 10 b: 20 total: 200\n"
     ]
    }
   ],
   "source": [
    "def he(a,b):\n",
    "    return a*b\n",
    "\n",
    "abc(he, 10, 20)"
   ]
  },
  {
   "cell_type": "code",
   "execution_count": 13,
   "metadata": {
    "collapsed": false
   },
   "outputs": [
    {
     "name": "stdout",
     "output_type": "stream",
     "text": [
      "30\n"
     ]
    }
   ],
   "source": [
    "def xxx(*abc):\n",
    "    print(sum(abc))\n",
    "\n",
    "xxx(10,20)"
   ]
  },
  {
   "cell_type": "code",
   "execution_count": 18,
   "metadata": {
    "collapsed": false
   },
   "outputs": [
    {
     "name": "stdout",
     "output_type": "stream",
     "text": [
      "He!\n",
      "Hel!\n",
      "Hell!\n",
      "Hello!\n"
     ]
    }
   ],
   "source": [
    "def yyy(func = lambda word: word.capitalize() + '!', stairs=['he', 'hel', 'hell', 'hello']):\n",
    "    for item in stairs:\n",
    "        print(func(item))\n",
    "        \n",
    "yyy()"
   ]
  },
  {
   "cell_type": "code",
   "execution_count": 19,
   "metadata": {
    "collapsed": false
   },
   "outputs": [],
   "source": [
    "def document(func):\n",
    "    def newfunction(*a, **b):\n",
    "        print(func.__name__)\n",
    "        print(a)\n",
    "        print(b)\n",
    "        print(func(*a, **b))\n",
    "        return func(*a, **b)\n",
    "    return newfunction\n"
   ]
  },
  {
   "cell_type": "code",
   "execution_count": 20,
   "metadata": {
    "collapsed": true
   },
   "outputs": [],
   "source": [
    "@document\n",
    "def add(a,b):\n",
    "    return a+b"
   ]
  },
  {
   "cell_type": "code",
   "execution_count": 21,
   "metadata": {
    "collapsed": false
   },
   "outputs": [
    {
     "name": "stdout",
     "output_type": "stream",
     "text": [
      "add\n",
      "(10, 40)\n",
      "{}\n",
      "50\n"
     ]
    },
    {
     "data": {
      "text/plain": [
       "50"
      ]
     },
     "execution_count": 21,
     "metadata": {},
     "output_type": "execute_result"
    }
   ],
   "source": [
    "add(10, 40)"
   ]
  },
  {
   "cell_type": "code",
   "execution_count": null,
   "metadata": {
    "collapsed": true
   },
   "outputs": [],
   "source": [
    "abcdefghijklmnopqrstuvwxyzthis is maly thisis may this is mly apple and you are apple and you ok this is not open doror and so for i = it ot lkdjfstr aand int do you wanto tosay this "
   ]
  },
  {
   "cell_type": "code",
   "execution_count": null,
   "metadata": {
    "collapsed": true
   },
   "outputs": [],
   "source": []
  }
 ],
 "metadata": {
  "kernelspec": {
   "display_name": "Python 3",
   "language": "python",
   "name": "python3"
  },
  "language_info": {
   "codemirror_mode": {
    "name": "ipython",
    "version": 3
   },
   "file_extension": ".py",
   "mimetype": "text/x-python",
   "name": "python",
   "nbconvert_exporter": "python",
   "pygments_lexer": "ipython3",
   "version": "3.4.3"
  }
 },
 "nbformat": 4,
 "nbformat_minor": 0
}

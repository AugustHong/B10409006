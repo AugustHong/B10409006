{
 "cells": [
  {
   "cell_type": "code",
   "execution_count": 1,
   "metadata": {
    "collapsed": false
   },
   "outputs": [
    {
     "name": "stdout",
     "output_type": "stream",
     "text": [
      "['this', 'is', 'a', 'book']\n"
     ]
    }
   ],
   "source": [
    "a=\"this is a book\"\n",
    "b=a.split(\" \")\n",
    "print(b)"
   ]
  },
  {
   "cell_type": "code",
   "execution_count": 2,
   "metadata": {
    "collapsed": false
   },
   "outputs": [
    {
     "name": "stdout",
     "output_type": "stream",
     "text": [
      "this is a book\n"
     ]
    }
   ],
   "source": [
    "c=\" \".join(b)\n",
    "print(c)"
   ]
  },
  {
   "cell_type": "code",
   "execution_count": 3,
   "metadata": {
    "collapsed": false
   },
   "outputs": [
    {
     "data": {
      "text/plain": [
       "14"
      ]
     },
     "execution_count": 3,
     "metadata": {},
     "output_type": "execute_result"
    }
   ],
   "source": [
    "len(a)"
   ]
  },
  {
   "cell_type": "code",
   "execution_count": 4,
   "metadata": {
    "collapsed": false
   },
   "outputs": [
    {
     "name": "stdout",
     "output_type": "stream",
     "text": [
      "True\n",
      "False\n",
      "8\n",
      "17\n",
      "2\n",
      "False\n",
      "this is a book a book\n",
      "This Is A Book A Book...\n",
      "THIS IS A BOOK A BOOK...\n",
      "this is a book a book...\n",
      "THIS IS A BOOK A BOOK...\n",
      "   this is a book a book...   \n",
      "this is a book a book...      \n",
      "      this is a book a book...\n"
     ]
    }
   ],
   "source": [
    "d=\"this is a book a book...\"\n",
    "print(d.startswith(\"this\"))\n",
    "print(d.endswith(\"book\"))\n",
    "print(d.find(\"a\"))\n",
    "print(d.rfind(\"book\"))\n",
    "print(d.count(\"a\"))\n",
    "print(d.isalnum())\n",
    "print(d.strip(\".\"))\n",
    "print(d.title())\n",
    "print(d.upper())\n",
    "print(d.lower())\n",
    "print(d.swapcase())\n",
    "print(d.center(30))\n",
    "print(d.ljust(30))\n",
    "print(d.rjust(30))"
   ]
  },
  {
   "cell_type": "code",
   "execution_count": 5,
   "metadata": {
    "collapsed": false
   },
   "outputs": [
    {
     "name": "stdout",
     "output_type": "stream",
     "text": [
      "24.0\n",
      "24\n"
     ]
    }
   ],
   "source": [
    "ps=\"這是p43業的後面練習\"\n",
    "seconds_per_hour=60*60\n",
    "seconds_per_day=seconds_per_hour*24\n",
    "print(seconds_per_day/seconds_per_hour)\n",
    "print(seconds_per_day//seconds_per_hour)"
   ]
  },
  {
   "cell_type": "code",
   "execution_count": 6,
   "metadata": {
    "collapsed": false
   },
   "outputs": [
    {
     "name": "stdout",
     "output_type": "stream",
     "text": [
      "71\n"
     ]
    }
   ],
   "source": [
    "import requests\n",
    "response=requests.get(\"http://www.novelscape.net/wxxs/j/jingyong/sdxl/013.htm\")\n",
    "response.encoding=\"big5\"\n",
    "book1=response.text\n",
    "print(book1.count(\"金輪法王\"))"
   ]
  },
  {
   "cell_type": "code",
   "execution_count": 7,
   "metadata": {
    "collapsed": false
   },
   "outputs": [
    {
     "name": "stdout",
     "output_type": "stream",
     "text": [
      "this is b book b book...\n"
     ]
    }
   ],
   "source": [
    "e=d.replace(\"a\",\"b\")\n",
    "print(e)"
   ]
  },
  {
   "cell_type": "code",
   "execution_count": null,
   "metadata": {
    "collapsed": true
   },
   "outputs": [],
   "source": []
  }
 ],
 "metadata": {
  "kernelspec": {
   "display_name": "Python 3",
   "language": "python",
   "name": "python3"
  },
  "language_info": {
   "codemirror_mode": {
    "name": "ipython",
    "version": 3
   },
   "file_extension": ".py",
   "mimetype": "text/x-python",
   "name": "python",
   "nbconvert_exporter": "python",
   "pygments_lexer": "ipython3",
   "version": "3.4.3"
  }
 },
 "nbformat": 4,
 "nbformat_minor": 0
}

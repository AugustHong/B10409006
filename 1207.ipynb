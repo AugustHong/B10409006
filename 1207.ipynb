{
 "cells": [
  {
   "cell_type": "code",
   "execution_count": 1,
   "metadata": {
    "collapsed": false
   },
   "outputs": [
    {
     "name": "stdout",
     "output_type": "stream",
     "text": [
      "please input fruit[input exit just exit]:pineapple\n",
      "2\n",
      "please input fruit[input exit just exit]:grape\n",
      "查無此項目\n",
      "please input fruit[input exit just exit]:guava\n",
      "查無此項目\n",
      "please input fruit[input exit just exit]:orange\n",
      "3\n",
      "please input fruit[input exit just exit]:exit\n"
     ]
    }
   ],
   "source": [
    "a=[\"apple\", \"banana\", \"pineapple\",\"orange\"]\n",
    "while True:\n",
    "    b=input(\"please input fruit[input exit just exit]:\")\n",
    "    if b == \"exit\":\n",
    "        break\n",
    "    if b in a:\n",
    "        print(a.index(b))\n",
    "    else:\n",
    "        print(\"查無此項目\")"
   ]
  },
  {
   "cell_type": "code",
   "execution_count": null,
   "metadata": {
    "collapsed": true
   },
   "outputs": [],
   "source": []
  }
 ],
 "metadata": {
  "kernelspec": {
   "display_name": "Python 3",
   "language": "python",
   "name": "python3"
  },
  "language_info": {
   "codemirror_mode": {
    "name": "ipython",
    "version": 3
   },
   "file_extension": ".py",
   "mimetype": "text/x-python",
   "name": "python",
   "nbconvert_exporter": "python",
   "pygments_lexer": "ipython3",
   "version": "3.4.3"
  }
 },
 "nbformat": 4,
 "nbformat_minor": 0
}

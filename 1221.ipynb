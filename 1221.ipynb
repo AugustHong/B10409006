{
 "cells": [
  {
   "cell_type": "code",
   "execution_count": 23,
   "metadata": {
    "collapsed": true
   },
   "outputs": [],
   "source": [
    "import pandas\n",
    "series = pandas.Series([160, 155, 170], index=['王小明', '陳大頭', '謝黑客'])\n",
    "sorce1 = pandas.Series([50, 60, 90], index=['王小明', '陳大頭', '謝黑客'])\n",
    "df = pandas.DataFrame({\n",
    "        '身高': series,\n",
    "        '學校': '台灣科技大學' ,\n",
    "        '成績': sorce1\n",
    "    })"
   ]
  },
  {
   "cell_type": "code",
   "execution_count": 2,
   "metadata": {
    "collapsed": false
   },
   "outputs": [
    {
     "data": {
      "text/plain": [
       "王小明    160\n",
       "陳大頭    155\n",
       "謝黑客    170\n",
       "dtype: int64"
      ]
     },
     "execution_count": 2,
     "metadata": {},
     "output_type": "execute_result"
    }
   ],
   "source": [
    "series"
   ]
  },
  {
   "cell_type": "code",
   "execution_count": 24,
   "metadata": {
    "collapsed": false
   },
   "outputs": [
    {
     "data": {
      "text/html": [
       "<div>\n",
       "<table border=\"1\" class=\"dataframe\">\n",
       "  <thead>\n",
       "    <tr style=\"text-align: right;\">\n",
       "      <th></th>\n",
       "      <th>學校</th>\n",
       "      <th>成績</th>\n",
       "      <th>身高</th>\n",
       "    </tr>\n",
       "  </thead>\n",
       "  <tbody>\n",
       "    <tr>\n",
       "      <th>王小明</th>\n",
       "      <td>台灣科技大學</td>\n",
       "      <td>50</td>\n",
       "      <td>160</td>\n",
       "    </tr>\n",
       "    <tr>\n",
       "      <th>陳大頭</th>\n",
       "      <td>台灣科技大學</td>\n",
       "      <td>60</td>\n",
       "      <td>155</td>\n",
       "    </tr>\n",
       "    <tr>\n",
       "      <th>謝黑客</th>\n",
       "      <td>台灣科技大學</td>\n",
       "      <td>90</td>\n",
       "      <td>170</td>\n",
       "    </tr>\n",
       "  </tbody>\n",
       "</table>\n",
       "</div>"
      ],
      "text/plain": [
       "         學校  成績   身高\n",
       "王小明  台灣科技大學  50  160\n",
       "陳大頭  台灣科技大學  60  155\n",
       "謝黑客  台灣科技大學  90  170"
      ]
     },
     "execution_count": 24,
     "metadata": {},
     "output_type": "execute_result"
    }
   ],
   "source": [
    "df"
   ]
  },
  {
   "cell_type": "code",
   "execution_count": 4,
   "metadata": {
    "collapsed": false
   },
   "outputs": [
    {
     "name": "stdout",
     "output_type": "stream",
     "text": [
      "4    99\n",
      "dtype: int64\n"
     ]
    }
   ],
   "source": [
    "import pandas as pd\n",
    "sorce = pd.Series([55, 40, 30, 10, 99])\n",
    "print(sorce[sorce>60])"
   ]
  },
  {
   "cell_type": "code",
   "execution_count": 5,
   "metadata": {
    "collapsed": false
   },
   "outputs": [
    {
     "name": "stdout",
     "output_type": "stream",
     "text": [
      "0    False\n",
      "1    False\n",
      "2    False\n",
      "3    False\n",
      "4     True\n",
      "dtype: bool\n"
     ]
    }
   ],
   "source": [
    "print(sorce>60)"
   ]
  },
  {
   "cell_type": "code",
   "execution_count": 6,
   "metadata": {
    "collapsed": false
   },
   "outputs": [
    {
     "name": "stdout",
     "output_type": "stream",
     "text": [
      "0    175\n",
      "1    100\n",
      "2     50\n",
      "3    -50\n",
      "4    395\n",
      "dtype: int64\n"
     ]
    }
   ],
   "source": [
    "print(sorce*5-100)"
   ]
  },
  {
   "cell_type": "code",
   "execution_count": 8,
   "metadata": {
    "collapsed": false
   },
   "outputs": [
    {
     "name": "stdout",
     "output_type": "stream",
     "text": [
      "a    1\n",
      "b    2\n",
      "c    3\n",
      "dtype: int64\n"
     ]
    }
   ],
   "source": [
    "kk = pd.Series([1,2,3], index=[\"a\", \"b\", \"c\"])\n",
    "print(kk)"
   ]
  },
  {
   "cell_type": "code",
   "execution_count": 9,
   "metadata": {
    "collapsed": false
   },
   "outputs": [
    {
     "name": "stdout",
     "output_type": "stream",
     "text": [
      "台灣     31900\n",
      "香港      7488\n",
      "日本    112800\n",
      "美國       999\n",
      "澳洲      1549\n",
      "dtype: int64\n"
     ]
    }
   ],
   "source": [
    "macAirPrice = pd.Series([31900, 7488, 112800, 999, 1549], index=['台灣', '香港', '日本', '美國', '澳洲'])\n",
    "print(macAirPrice)"
   ]
  },
  {
   "cell_type": "code",
   "execution_count": 10,
   "metadata": {
    "collapsed": false
   },
   "outputs": [
    {
     "name": "stdout",
     "output_type": "stream",
     "text": [
      "美國    32.4550\n",
      "香港     4.0800\n",
      "澳洲    23.2800\n",
      "日本     0.2597\n",
      "台灣     1.0000\n",
      "dtype: float64\n"
     ]
    }
   ],
   "source": [
    "exchangeRate = pd.Series([32.45500, 4.08000, 23.28000, 0.25970, 1], index=['美國', '香港', '澳洲', '日本', '台灣'])\n",
    "print(exchangeRate)"
   ]
  },
  {
   "cell_type": "code",
   "execution_count": 15,
   "metadata": {
    "collapsed": false
   },
   "outputs": [
    {
     "name": "stdout",
     "output_type": "stream",
     "text": [
      "台灣    31900.000\n",
      "日本    29294.160\n",
      "澳洲    36060.720\n",
      "美國    32422.545\n",
      "香港    30551.040\n",
      "dtype: float64\n"
     ]
    }
   ],
   "source": [
    "ae=macAirPrice*exchangeRate\n",
    "print(ae)"
   ]
  },
  {
   "cell_type": "code",
   "execution_count": 17,
   "metadata": {
    "collapsed": false
   },
   "outputs": [
    {
     "name": "stdout",
     "output_type": "stream",
     "text": [
      "台灣    31900.0000\n",
      "日本    31637.6928\n",
      "澳洲    36060.7200\n",
      "美國    32422.5450\n",
      "香港    30551.0400\n",
      "dtype: float64\n"
     ]
    }
   ],
   "source": [
    "ae['日本'] = ae['日本']*1.08\n",
    "print(ae)"
   ]
  },
  {
   "cell_type": "code",
   "execution_count": 39,
   "metadata": {
    "collapsed": false
   },
   "outputs": [
    {
     "name": "stdout",
     "output_type": "stream",
     "text": [
      "30551.04\n"
     ]
    }
   ],
   "source": [
    "print( min(ae))"
   ]
  },
  {
   "cell_type": "code",
   "execution_count": 27,
   "metadata": {
    "collapsed": true
   },
   "outputs": [],
   "source": [
    "airPollution = pd.read_csv('http://opendata.epa.gov.tw/ws/Data/AQX/?format=csv&ndctype=CSV&ndcnid=6074', encoding=\"utf-8-sig\")"
   ]
  },
  {
   "cell_type": "code",
   "execution_count": 28,
   "metadata": {
    "collapsed": false
   },
   "outputs": [
    {
     "name": "stdout",
     "output_type": "stream",
     "text": [
      "  SiteName County  PSI MajorPollutant Status  SO2    CO  O3  PM10  PM2.5  \\\n",
      "0       麥寮    雲林縣   65           懸浮微粒     普通  2.3  0.24  38    78     24   \n",
      "1       關山    臺東縣   29            NaN     良好  0.7   NaN  35    10      5   \n",
      "2       馬公    澎湖縣   32            NaN     良好  1.6  0.23  35    33     22   \n",
      "3       金門    金門縣   66           懸浮微粒     普通  5.3  0.45  30    76     48   \n",
      "4       馬祖    連江縣    0            NaN    NaN  1.9  0.32  21   NaN    NaN   \n",
      "\n",
      "    NO2  WindSpeed  WindDirec  FPMI    NOx    NO       PublishTime  \n",
      "0   7.2        5.4         86     3   8.51  1.34  2015-12-21 14:00  \n",
      "1   0.7        1.6        224     1   1.33  0.67  2015-12-21 14:00  \n",
      "2   4.1        5.3         73     2   5.77  1.63  2015-12-21 14:00  \n",
      "3  20.0        2.5         74     6  24.93  5.32  2015-12-21 14:00  \n",
      "4   9.4        4.4         53   NaN  12.04  2.63  2015-12-21 14:00  \n"
     ]
    }
   ],
   "source": [
    "print(airPollution.head())"
   ]
  },
  {
   "cell_type": "code",
   "execution_count": 30,
   "metadata": {
    "collapsed": false
   },
   "outputs": [
    {
     "data": {
      "text/plain": [
       "SiteName           object\n",
       "County             object\n",
       "PSI                 int64\n",
       "MajorPollutant     object\n",
       "Status             object\n",
       "SO2               float64\n",
       "CO                float64\n",
       "O3                float64\n",
       "PM10              float64\n",
       "PM2.5             float64\n",
       "NO2               float64\n",
       "WindSpeed         float64\n",
       "WindDirec         float64\n",
       "FPMI              float64\n",
       "NOx               float64\n",
       "NO                float64\n",
       "PublishTime        object\n",
       "dtype: object"
      ]
     },
     "execution_count": 30,
     "metadata": {},
     "output_type": "execute_result"
    }
   ],
   "source": [
    "airPollution.dtypes"
   ]
  },
  {
   "cell_type": "code",
   "execution_count": 31,
   "metadata": {
    "collapsed": false
   },
   "outputs": [
    {
     "name": "stdout",
     "output_type": "stream",
     "text": [
      "SiteName           object\n",
      "County             object\n",
      "PSI                 int64\n",
      "MajorPollutant     object\n",
      "Status             object\n",
      "SO2               float64\n",
      "CO                float64\n",
      "O3                float64\n",
      "PM10              float64\n",
      "PM2.5             float64\n",
      "NO2               float64\n",
      "WindSpeed         float64\n",
      "WindDirec         float64\n",
      "FPMI              float64\n",
      "NOx               float64\n",
      "NO                float64\n",
      "PublishTime        object\n",
      "dtype: object\n"
     ]
    }
   ],
   "source": [
    "print(airPollution.dtypes)"
   ]
  },
  {
   "cell_type": "code",
   "execution_count": 37,
   "metadata": {
    "collapsed": false
   },
   "outputs": [
    {
     "name": "stdout",
     "output_type": "stream",
     "text": [
      "      原始價格     台幣：外幣    外幣：台幣        實際價格\n",
      "台灣   31900  1.000000   1.0000  31900.0000\n",
      "日本  112800  3.850597   0.2597  31637.6928\n",
      "澳洲    1549  0.042955  23.2800  36060.7200\n",
      "美國     999  0.030812  32.4550  32422.5450\n",
      "香港    7488  0.245098   4.0800  30551.0400\n",
      "台灣    31900.0000\n",
      "日本    31637.6928\n",
      "澳洲    36060.7200\n",
      "美國    32422.5450\n",
      "香港    30551.0400\n",
      "dtype: float64\n"
     ]
    }
   ],
   "source": [
    "macAirPrice = pd.Series([31900, 7488, 112800, 999, 1549], index=['台灣', '香港', '日本', '美國', '澳洲'])\n",
    "exchangeRate = pd.Series([32.45500, 4.08000, 23.28000, 0.25970, 1], index=['美國', '香港', '澳洲', '日本', '台灣'])\n",
    "macIndex = pd.DataFrame({\n",
    "        '原始價格': macAirPrice,\n",
    "        '外幣：台幣': exchangeRate,\n",
    "        '台幣：外幣': 1 / exchangeRate,\n",
    "        '實際價格': ae # macAirPrice * exchangeRate\n",
    "    })\n",
    "print(macIndex)"
   ]
  },
  {
   "cell_type": "code",
   "execution_count": 40,
   "metadata": {
    "collapsed": false
   },
   "outputs": [
    {
     "data": {
      "text/html": [
       "<div>\n",
       "<table border=\"1\" class=\"dataframe\">\n",
       "  <thead>\n",
       "    <tr style=\"text-align: right;\">\n",
       "      <th></th>\n",
       "      <th>原始價格</th>\n",
       "      <th>台幣：外幣</th>\n",
       "      <th>外幣：台幣</th>\n",
       "      <th>實際價格</th>\n",
       "    </tr>\n",
       "  </thead>\n",
       "  <tbody>\n",
       "    <tr>\n",
       "      <th>台灣</th>\n",
       "      <td>31900</td>\n",
       "      <td>1.000000</td>\n",
       "      <td>1.0000</td>\n",
       "      <td>31900.0000</td>\n",
       "    </tr>\n",
       "    <tr>\n",
       "      <th>日本</th>\n",
       "      <td>112800</td>\n",
       "      <td>3.850597</td>\n",
       "      <td>0.2597</td>\n",
       "      <td>31637.6928</td>\n",
       "    </tr>\n",
       "    <tr>\n",
       "      <th>澳洲</th>\n",
       "      <td>1549</td>\n",
       "      <td>0.042955</td>\n",
       "      <td>23.2800</td>\n",
       "      <td>36060.7200</td>\n",
       "    </tr>\n",
       "    <tr>\n",
       "      <th>美國</th>\n",
       "      <td>999</td>\n",
       "      <td>0.030812</td>\n",
       "      <td>32.4550</td>\n",
       "      <td>32422.5450</td>\n",
       "    </tr>\n",
       "    <tr>\n",
       "      <th>香港</th>\n",
       "      <td>7488</td>\n",
       "      <td>0.245098</td>\n",
       "      <td>4.0800</td>\n",
       "      <td>30551.0400</td>\n",
       "    </tr>\n",
       "  </tbody>\n",
       "</table>\n",
       "</div>"
      ],
      "text/plain": [
       "      原始價格     台幣：外幣    外幣：台幣        實際價格\n",
       "台灣   31900  1.000000   1.0000  31900.0000\n",
       "日本  112800  3.850597   0.2597  31637.6928\n",
       "澳洲    1549  0.042955  23.2800  36060.7200\n",
       "美國     999  0.030812  32.4550  32422.5450\n",
       "香港    7488  0.245098   4.0800  30551.0400"
      ]
     },
     "execution_count": 40,
     "metadata": {},
     "output_type": "execute_result"
    }
   ],
   "source": [
    "macIndex"
   ]
  },
  {
   "cell_type": "code",
   "execution_count": 41,
   "metadata": {
    "collapsed": false
   },
   "outputs": [
    {
     "data": {
      "text/html": [
       "<div>\n",
       "<table border=\"1\" class=\"dataframe\">\n",
       "  <thead>\n",
       "    <tr style=\"text-align: right;\">\n",
       "      <th></th>\n",
       "      <th>原始價格</th>\n",
       "      <th>台幣：外幣</th>\n",
       "      <th>外幣：台幣</th>\n",
       "      <th>實際價格</th>\n",
       "      <th>GDP</th>\n",
       "    </tr>\n",
       "  </thead>\n",
       "  <tbody>\n",
       "    <tr>\n",
       "      <th>台灣</th>\n",
       "      <td>31900</td>\n",
       "      <td>1.000000</td>\n",
       "      <td>1.0000</td>\n",
       "      <td>31900.0000</td>\n",
       "      <td>45853.74</td>\n",
       "    </tr>\n",
       "    <tr>\n",
       "      <th>日本</th>\n",
       "      <td>112800</td>\n",
       "      <td>3.850597</td>\n",
       "      <td>0.2597</td>\n",
       "      <td>31637.6928</td>\n",
       "      <td>37389.79</td>\n",
       "    </tr>\n",
       "    <tr>\n",
       "      <th>澳洲</th>\n",
       "      <td>1549</td>\n",
       "      <td>0.042955</td>\n",
       "      <td>23.2800</td>\n",
       "      <td>36060.7200</td>\n",
       "      <td>46433.30</td>\n",
       "    </tr>\n",
       "    <tr>\n",
       "      <th>美國</th>\n",
       "      <td>999</td>\n",
       "      <td>0.030812</td>\n",
       "      <td>32.4550</td>\n",
       "      <td>32422.5450</td>\n",
       "      <td>54596.65</td>\n",
       "    </tr>\n",
       "    <tr>\n",
       "      <th>香港</th>\n",
       "      <td>7488</td>\n",
       "      <td>0.245098</td>\n",
       "      <td>4.0800</td>\n",
       "      <td>30551.0400</td>\n",
       "      <td>54722.12</td>\n",
       "    </tr>\n",
       "  </tbody>\n",
       "</table>\n",
       "</div>"
      ],
      "text/plain": [
       "      原始價格     台幣：外幣    外幣：台幣        實際價格       GDP\n",
       "台灣   31900  1.000000   1.0000  31900.0000  45853.74\n",
       "日本  112800  3.850597   0.2597  31637.6928  37389.79\n",
       "澳洲    1549  0.042955  23.2800  36060.7200  46433.30\n",
       "美國     999  0.030812  32.4550  32422.5450  54596.65\n",
       "香港    7488  0.245098   4.0800  30551.0400  54722.12"
      ]
     },
     "execution_count": 41,
     "metadata": {},
     "output_type": "execute_result"
    }
   ],
   "source": [
    "macIndex['GDP'] = pd.Series({\n",
    "    '美國': 54596.65,\n",
    "    '日本': 37389.79,\n",
    "    '台灣': 45853.74,\n",
    "    '香港': 54722.12,\n",
    "    '澳洲': 46433.30\n",
    "    })\n",
    "macIndex"
   ]
  },
  {
   "cell_type": "code",
   "execution_count": 42,
   "metadata": {
    "collapsed": false
   },
   "outputs": [
    {
     "data": {
      "text/plain": [
       "台灣     31900\n",
       "日本    112800\n",
       "澳洲      1549\n",
       "美國       999\n",
       "香港      7488\n",
       "Name: 原始價格, dtype: int64"
      ]
     },
     "execution_count": 42,
     "metadata": {},
     "output_type": "execute_result"
    }
   ],
   "source": [
    "macIndex['原始價格']"
   ]
  },
  {
   "cell_type": "code",
   "execution_count": 43,
   "metadata": {
    "collapsed": false
   },
   "outputs": [
    {
     "ename": "KeyError",
     "evalue": "'台灣'",
     "output_type": "error",
     "traceback": [
      "\u001b[1;31m---------------------------------------------------------------------------\u001b[0m",
      "\u001b[1;31mKeyError\u001b[0m                                  Traceback (most recent call last)",
      "\u001b[1;32m<ipython-input-43-e8082c8c0223>\u001b[0m in \u001b[0;36m<module>\u001b[1;34m()\u001b[0m\n\u001b[1;32m----> 1\u001b[1;33m \u001b[0mmacIndex\u001b[0m\u001b[1;33m[\u001b[0m\u001b[1;34m'台灣'\u001b[0m\u001b[1;33m]\u001b[0m\u001b[1;33m\u001b[0m\u001b[0m\n\u001b[0m",
      "\u001b[1;32mC:\\Users\\MA303\\Anaconda3\\lib\\site-packages\\pandas\\core\\frame.py\u001b[0m in \u001b[0;36m__getitem__\u001b[1;34m(self, key)\u001b[0m\n\u001b[0;32m   1795\u001b[0m             \u001b[1;32mreturn\u001b[0m \u001b[0mself\u001b[0m\u001b[1;33m.\u001b[0m\u001b[0m_getitem_multilevel\u001b[0m\u001b[1;33m(\u001b[0m\u001b[0mkey\u001b[0m\u001b[1;33m)\u001b[0m\u001b[1;33m\u001b[0m\u001b[0m\n\u001b[0;32m   1796\u001b[0m         \u001b[1;32melse\u001b[0m\u001b[1;33m:\u001b[0m\u001b[1;33m\u001b[0m\u001b[0m\n\u001b[1;32m-> 1797\u001b[1;33m             \u001b[1;32mreturn\u001b[0m \u001b[0mself\u001b[0m\u001b[1;33m.\u001b[0m\u001b[0m_getitem_column\u001b[0m\u001b[1;33m(\u001b[0m\u001b[0mkey\u001b[0m\u001b[1;33m)\u001b[0m\u001b[1;33m\u001b[0m\u001b[0m\n\u001b[0m\u001b[0;32m   1798\u001b[0m \u001b[1;33m\u001b[0m\u001b[0m\n\u001b[0;32m   1799\u001b[0m     \u001b[1;32mdef\u001b[0m \u001b[0m_getitem_column\u001b[0m\u001b[1;33m(\u001b[0m\u001b[0mself\u001b[0m\u001b[1;33m,\u001b[0m \u001b[0mkey\u001b[0m\u001b[1;33m)\u001b[0m\u001b[1;33m:\u001b[0m\u001b[1;33m\u001b[0m\u001b[0m\n",
      "\u001b[1;32mC:\\Users\\MA303\\Anaconda3\\lib\\site-packages\\pandas\\core\\frame.py\u001b[0m in \u001b[0;36m_getitem_column\u001b[1;34m(self, key)\u001b[0m\n\u001b[0;32m   1802\u001b[0m         \u001b[1;31m# get column\u001b[0m\u001b[1;33m\u001b[0m\u001b[1;33m\u001b[0m\u001b[0m\n\u001b[0;32m   1803\u001b[0m         \u001b[1;32mif\u001b[0m \u001b[0mself\u001b[0m\u001b[1;33m.\u001b[0m\u001b[0mcolumns\u001b[0m\u001b[1;33m.\u001b[0m\u001b[0mis_unique\u001b[0m\u001b[1;33m:\u001b[0m\u001b[1;33m\u001b[0m\u001b[0m\n\u001b[1;32m-> 1804\u001b[1;33m             \u001b[1;32mreturn\u001b[0m \u001b[0mself\u001b[0m\u001b[1;33m.\u001b[0m\u001b[0m_get_item_cache\u001b[0m\u001b[1;33m(\u001b[0m\u001b[0mkey\u001b[0m\u001b[1;33m)\u001b[0m\u001b[1;33m\u001b[0m\u001b[0m\n\u001b[0m\u001b[0;32m   1805\u001b[0m \u001b[1;33m\u001b[0m\u001b[0m\n\u001b[0;32m   1806\u001b[0m         \u001b[1;31m# duplicate columns & possible reduce dimensionaility\u001b[0m\u001b[1;33m\u001b[0m\u001b[1;33m\u001b[0m\u001b[0m\n",
      "\u001b[1;32mC:\\Users\\MA303\\Anaconda3\\lib\\site-packages\\pandas\\core\\generic.py\u001b[0m in \u001b[0;36m_get_item_cache\u001b[1;34m(self, item)\u001b[0m\n\u001b[0;32m   1082\u001b[0m         \u001b[0mres\u001b[0m \u001b[1;33m=\u001b[0m \u001b[0mcache\u001b[0m\u001b[1;33m.\u001b[0m\u001b[0mget\u001b[0m\u001b[1;33m(\u001b[0m\u001b[0mitem\u001b[0m\u001b[1;33m)\u001b[0m\u001b[1;33m\u001b[0m\u001b[0m\n\u001b[0;32m   1083\u001b[0m         \u001b[1;32mif\u001b[0m \u001b[0mres\u001b[0m \u001b[1;32mis\u001b[0m \u001b[1;32mNone\u001b[0m\u001b[1;33m:\u001b[0m\u001b[1;33m\u001b[0m\u001b[0m\n\u001b[1;32m-> 1084\u001b[1;33m             \u001b[0mvalues\u001b[0m \u001b[1;33m=\u001b[0m \u001b[0mself\u001b[0m\u001b[1;33m.\u001b[0m\u001b[0m_data\u001b[0m\u001b[1;33m.\u001b[0m\u001b[0mget\u001b[0m\u001b[1;33m(\u001b[0m\u001b[0mitem\u001b[0m\u001b[1;33m)\u001b[0m\u001b[1;33m\u001b[0m\u001b[0m\n\u001b[0m\u001b[0;32m   1085\u001b[0m             \u001b[0mres\u001b[0m \u001b[1;33m=\u001b[0m \u001b[0mself\u001b[0m\u001b[1;33m.\u001b[0m\u001b[0m_box_item_values\u001b[0m\u001b[1;33m(\u001b[0m\u001b[0mitem\u001b[0m\u001b[1;33m,\u001b[0m \u001b[0mvalues\u001b[0m\u001b[1;33m)\u001b[0m\u001b[1;33m\u001b[0m\u001b[0m\n\u001b[0;32m   1086\u001b[0m             \u001b[0mcache\u001b[0m\u001b[1;33m[\u001b[0m\u001b[0mitem\u001b[0m\u001b[1;33m]\u001b[0m \u001b[1;33m=\u001b[0m \u001b[0mres\u001b[0m\u001b[1;33m\u001b[0m\u001b[0m\n",
      "\u001b[1;32mC:\\Users\\MA303\\Anaconda3\\lib\\site-packages\\pandas\\core\\internals.py\u001b[0m in \u001b[0;36mget\u001b[1;34m(self, item, fastpath)\u001b[0m\n\u001b[0;32m   2849\u001b[0m \u001b[1;33m\u001b[0m\u001b[0m\n\u001b[0;32m   2850\u001b[0m             \u001b[1;32mif\u001b[0m \u001b[1;32mnot\u001b[0m \u001b[0misnull\u001b[0m\u001b[1;33m(\u001b[0m\u001b[0mitem\u001b[0m\u001b[1;33m)\u001b[0m\u001b[1;33m:\u001b[0m\u001b[1;33m\u001b[0m\u001b[0m\n\u001b[1;32m-> 2851\u001b[1;33m                 \u001b[0mloc\u001b[0m \u001b[1;33m=\u001b[0m \u001b[0mself\u001b[0m\u001b[1;33m.\u001b[0m\u001b[0mitems\u001b[0m\u001b[1;33m.\u001b[0m\u001b[0mget_loc\u001b[0m\u001b[1;33m(\u001b[0m\u001b[0mitem\u001b[0m\u001b[1;33m)\u001b[0m\u001b[1;33m\u001b[0m\u001b[0m\n\u001b[0m\u001b[0;32m   2852\u001b[0m             \u001b[1;32melse\u001b[0m\u001b[1;33m:\u001b[0m\u001b[1;33m\u001b[0m\u001b[0m\n\u001b[0;32m   2853\u001b[0m                 \u001b[0mindexer\u001b[0m \u001b[1;33m=\u001b[0m \u001b[0mnp\u001b[0m\u001b[1;33m.\u001b[0m\u001b[0marange\u001b[0m\u001b[1;33m(\u001b[0m\u001b[0mlen\u001b[0m\u001b[1;33m(\u001b[0m\u001b[0mself\u001b[0m\u001b[1;33m.\u001b[0m\u001b[0mitems\u001b[0m\u001b[1;33m)\u001b[0m\u001b[1;33m)\u001b[0m\u001b[1;33m[\u001b[0m\u001b[0misnull\u001b[0m\u001b[1;33m(\u001b[0m\u001b[0mself\u001b[0m\u001b[1;33m.\u001b[0m\u001b[0mitems\u001b[0m\u001b[1;33m)\u001b[0m\u001b[1;33m]\u001b[0m\u001b[1;33m\u001b[0m\u001b[0m\n",
      "\u001b[1;32mC:\\Users\\MA303\\Anaconda3\\lib\\site-packages\\pandas\\core\\index.py\u001b[0m in \u001b[0;36mget_loc\u001b[1;34m(self, key, method)\u001b[0m\n\u001b[0;32m   1570\u001b[0m         \"\"\"\n\u001b[0;32m   1571\u001b[0m         \u001b[1;32mif\u001b[0m \u001b[0mmethod\u001b[0m \u001b[1;32mis\u001b[0m \u001b[1;32mNone\u001b[0m\u001b[1;33m:\u001b[0m\u001b[1;33m\u001b[0m\u001b[0m\n\u001b[1;32m-> 1572\u001b[1;33m             \u001b[1;32mreturn\u001b[0m \u001b[0mself\u001b[0m\u001b[1;33m.\u001b[0m\u001b[0m_engine\u001b[0m\u001b[1;33m.\u001b[0m\u001b[0mget_loc\u001b[0m\u001b[1;33m(\u001b[0m\u001b[0m_values_from_object\u001b[0m\u001b[1;33m(\u001b[0m\u001b[0mkey\u001b[0m\u001b[1;33m)\u001b[0m\u001b[1;33m)\u001b[0m\u001b[1;33m\u001b[0m\u001b[0m\n\u001b[0m\u001b[0;32m   1573\u001b[0m \u001b[1;33m\u001b[0m\u001b[0m\n\u001b[0;32m   1574\u001b[0m         \u001b[0mindexer\u001b[0m \u001b[1;33m=\u001b[0m \u001b[0mself\u001b[0m\u001b[1;33m.\u001b[0m\u001b[0mget_indexer\u001b[0m\u001b[1;33m(\u001b[0m\u001b[1;33m[\u001b[0m\u001b[0mkey\u001b[0m\u001b[1;33m]\u001b[0m\u001b[1;33m,\u001b[0m \u001b[0mmethod\u001b[0m\u001b[1;33m=\u001b[0m\u001b[0mmethod\u001b[0m\u001b[1;33m)\u001b[0m\u001b[1;33m\u001b[0m\u001b[0m\n",
      "\u001b[1;32mpandas\\index.pyx\u001b[0m in \u001b[0;36mpandas.index.IndexEngine.get_loc (pandas\\index.c:3824)\u001b[1;34m()\u001b[0m\n",
      "\u001b[1;32mpandas\\index.pyx\u001b[0m in \u001b[0;36mpandas.index.IndexEngine.get_loc (pandas\\index.c:3704)\u001b[1;34m()\u001b[0m\n",
      "\u001b[1;32mpandas\\hashtable.pyx\u001b[0m in \u001b[0;36mpandas.hashtable.PyObjectHashTable.get_item (pandas\\hashtable.c:12280)\u001b[1;34m()\u001b[0m\n",
      "\u001b[1;32mpandas\\hashtable.pyx\u001b[0m in \u001b[0;36mpandas.hashtable.PyObjectHashTable.get_item (pandas\\hashtable.c:12231)\u001b[1;34m()\u001b[0m\n",
      "\u001b[1;31mKeyError\u001b[0m: '台灣'"
     ]
    }
   ],
   "source": [
    "macIndex['台灣']"
   ]
  },
  {
   "cell_type": "code",
   "execution_count": 44,
   "metadata": {
    "collapsed": false
   },
   "outputs": [
    {
     "name": "stdout",
     "output_type": "stream",
     "text": [
      "Populating the interactive namespace from numpy and matplotlib\n"
     ]
    },
    {
     "data": {
      "text/plain": [
       "<matplotlib.axes._subplots.AxesSubplot at 0x81f2a58>"
      ]
     },
     "execution_count": 44,
     "metadata": {},
     "output_type": "execute_result"
    },
    {
     "data": {
      "image/png": "[encoded data removed]",
      "text/plain": [
       "<matplotlib.figure.Figure at 0x7025780>"
      ]
     },
     "metadata": {},
     "output_type": "display_data"
    }
   ],
   "source": [
    "%pylab inline\n",
    "macIndex.plot(x = '台幣：外幣', y='原始價格', kind='scatter')"
   ]
  },
  {
   "cell_type": "code",
   "execution_count": 46,
   "metadata": {
    "collapsed": false
   },
   "outputs": [
    {
     "data": {
      "text/html": [
       "<div>\n",
       "<table border=\"1\" class=\"dataframe\">\n",
       "  <thead>\n",
       "    <tr style=\"text-align: right;\">\n",
       "      <th></th>\n",
       "      <th>原始價格</th>\n",
       "      <th>台幣：外幣</th>\n",
       "      <th>外幣：台幣</th>\n",
       "      <th>實際價格</th>\n",
       "      <th>GDP</th>\n",
       "    </tr>\n",
       "  </thead>\n",
       "  <tbody>\n",
       "    <tr>\n",
       "      <th>台灣</th>\n",
       "      <td>31900</td>\n",
       "      <td>1</td>\n",
       "      <td>1</td>\n",
       "      <td>31900</td>\n",
       "      <td>45853.74</td>\n",
       "    </tr>\n",
       "  </tbody>\n",
       "</table>\n",
       "</div>"
      ],
      "text/plain": [
       "     原始價格  台幣：外幣  外幣：台幣   實際價格       GDP\n",
       "台灣  31900      1      1  31900  45853.74"
      ]
     },
     "execution_count": 46,
     "metadata": {},
     "output_type": "execute_result"
    }
   ],
   "source": [
    "macIndex[0:1]"
   ]
  },
  {
   "cell_type": "code",
   "execution_count": null,
   "metadata": {
    "collapsed": true
   },
   "outputs": [],
   "source": []
  }
 ],
 "metadata": {
  "kernelspec": {
   "display_name": "Python 3",
   "language": "python",
   "name": "python3"
  },
  "language_info": {
   "codemirror_mode": {
    "name": "ipython",
    "version": 3
   },
   "file_extension": ".py",
   "mimetype": "text/x-python",
   "name": "python",
   "nbconvert_exporter": "python",
   "pygments_lexer": "ipython3",
   "version": "3.4.3"
  }
 },
 "nbformat": 4,
 "nbformat_minor": 0
}

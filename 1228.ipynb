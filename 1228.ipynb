{
 "cells": [
  {
   "cell_type": "code",
   "execution_count": 1,
   "metadata": {
    "collapsed": false
   },
   "outputs": [
    {
     "name": "stdout",
     "output_type": "stream",
     "text": [
      "monday eat beef\n",
      "tuesday eat fruits\n",
      "wednesday eat water\n"
     ]
    }
   ],
   "source": [
    "day=['monday', 'tuesday', 'wednesday']\n",
    "food=['beef', 'fruits', 'water']\n",
    "for d , f in zip(day, food):\n",
    "    print(d, 'eat', f)"
   ]
  },
  {
   "cell_type": "code",
   "execution_count": 2,
   "metadata": {
    "collapsed": false
   },
   "outputs": [
    {
     "name": "stdout",
     "output_type": "stream",
     "text": [
      "[0, 1, 2, 3, 4, 5, 6, 7, 8]\n"
     ]
    }
   ],
   "source": [
    "print(list(range(0,9)))"
   ]
  },
  {
   "cell_type": "code",
   "execution_count": 3,
   "metadata": {
    "collapsed": false
   },
   "outputs": [
    {
     "name": "stdout",
     "output_type": "stream",
     "text": [
      "[0, 1, 2, 3, 4, 5, 6, 7, 8, 9, 10]\n"
     ]
    }
   ],
   "source": [
    "print([number for number in range(0,11)])"
   ]
  },
  {
   "cell_type": "code",
   "execution_count": 4,
   "metadata": {
    "collapsed": false
   },
   "outputs": [
    {
     "name": "stdout",
     "output_type": "stream",
     "text": [
      "{0: 1, 1: 2, 2: 3, 3: 4, 4: 5, 5: 6, 6: 7, 7: 8, 8: 9, 9: 10, 10: 11}\n"
     ]
    }
   ],
   "source": [
    "print({number:number+1 for number in range(0,11)})"
   ]
  },
  {
   "cell_type": "code",
   "execution_count": 9,
   "metadata": {
    "collapsed": false
   },
   "outputs": [
    {
     "name": "stdout",
     "output_type": "stream",
     "text": [
      "{'b': 15, 'a': 15}\n"
     ]
    }
   ],
   "source": [
    "a=\"ab\"*15\n",
    "print({number : a.count(number) for number in a})"
   ]
  },
  {
   "cell_type": "code",
   "execution_count": 7,
   "metadata": {
    "collapsed": false
   },
   "outputs": [
    {
     "name": "stdout",
     "output_type": "stream",
     "text": [
      "[(1, 1), (1, 2), (2, 1), (2, 2), (3, 1), (3, 2)]\n"
     ]
    }
   ],
   "source": [
    "print([(row, col) for row in range(1,4) for col in range(1, 3)])"
   ]
  },
  {
   "cell_type": "code",
   "execution_count": 8,
   "metadata": {
    "collapsed": false
   },
   "outputs": [
    {
     "name": "stdout",
     "output_type": "stream",
     "text": [
      "[0, 2, 4, 6, 8, 10, 12, 14]\n"
     ]
    }
   ],
   "source": [
    "print([number for number in range(0,15) if number % 2 ==0])"
   ]
  },
  {
   "cell_type": "code",
   "execution_count": 13,
   "metadata": {
    "collapsed": false
   },
   "outputs": [
    {
     "name": "stdout",
     "output_type": "stream",
     "text": [
      "1 * 1 = 1 \t\n",
      "1 * 2 = 2 \t\n",
      "1 * 3 = 3 \t\n",
      "1 * 4 = 4 \t\n",
      "1 * 5 = 5 \t\n",
      "1 * 6 = 6 \t\n",
      "1 * 7 = 7 \t\n",
      "1 * 8 = 8 \t\n",
      "1 * 9 = 9 \t\n",
      "\n",
      "\n",
      "2 * 1 = 2 \t\n",
      "2 * 2 = 4 \t\n",
      "2 * 3 = 6 \t\n",
      "2 * 4 = 8 \t\n",
      "2 * 5 = 10 \t\n",
      "2 * 6 = 12 \t\n",
      "2 * 7 = 14 \t\n",
      "2 * 8 = 16 \t\n",
      "2 * 9 = 18 \t\n",
      "\n",
      "\n",
      "3 * 1 = 3 \t\n",
      "3 * 2 = 6 \t\n",
      "3 * 3 = 9 \t\n",
      "3 * 4 = 12 \t\n",
      "3 * 5 = 15 \t\n",
      "3 * 6 = 18 \t\n",
      "3 * 7 = 21 \t\n",
      "3 * 8 = 24 \t\n",
      "3 * 9 = 27 \t\n",
      "\n",
      "\n",
      "4 * 1 = 4 \t\n",
      "4 * 2 = 8 \t\n",
      "4 * 3 = 12 \t\n",
      "4 * 4 = 16 \t\n",
      "4 * 5 = 20 \t\n",
      "4 * 6 = 24 \t\n",
      "4 * 7 = 28 \t\n",
      "4 * 8 = 32 \t\n",
      "4 * 9 = 36 \t\n",
      "\n",
      "\n",
      "5 * 1 = 5 \t\n",
      "5 * 2 = 10 \t\n",
      "5 * 3 = 15 \t\n",
      "5 * 4 = 20 \t\n",
      "5 * 5 = 25 \t\n",
      "5 * 6 = 30 \t\n",
      "5 * 7 = 35 \t\n",
      "5 * 8 = 40 \t\n",
      "5 * 9 = 45 \t\n",
      "\n",
      "\n",
      "6 * 1 = 6 \t\n",
      "6 * 2 = 12 \t\n",
      "6 * 3 = 18 \t\n",
      "6 * 4 = 24 \t\n",
      "6 * 5 = 30 \t\n",
      "6 * 6 = 36 \t\n",
      "6 * 7 = 42 \t\n",
      "6 * 8 = 48 \t\n",
      "6 * 9 = 54 \t\n",
      "\n",
      "\n",
      "7 * 1 = 7 \t\n",
      "7 * 2 = 14 \t\n",
      "7 * 3 = 21 \t\n",
      "7 * 4 = 28 \t\n",
      "7 * 5 = 35 \t\n",
      "7 * 6 = 42 \t\n",
      "7 * 7 = 49 \t\n",
      "7 * 8 = 56 \t\n",
      "7 * 9 = 63 \t\n",
      "\n",
      "\n",
      "8 * 1 = 8 \t\n",
      "8 * 2 = 16 \t\n",
      "8 * 3 = 24 \t\n",
      "8 * 4 = 32 \t\n",
      "8 * 5 = 40 \t\n",
      "8 * 6 = 48 \t\n",
      "8 * 7 = 56 \t\n",
      "8 * 8 = 64 \t\n",
      "8 * 9 = 72 \t\n",
      "\n",
      "\n",
      "9 * 1 = 9 \t\n",
      "9 * 2 = 18 \t\n",
      "9 * 3 = 27 \t\n",
      "9 * 4 = 36 \t\n",
      "9 * 5 = 45 \t\n",
      "9 * 6 = 54 \t\n",
      "9 * 7 = 63 \t\n",
      "9 * 8 = 72 \t\n",
      "9 * 9 = 81 \t\n",
      "\n",
      "\n"
     ]
    }
   ],
   "source": [
    "for i in range(1,10):\n",
    "    for j in range(1,10):\n",
    "        print(i, \"*\", j , \"=\", i*j,\"\\t\")\n",
    "    print(\"\\n\")"
   ]
  },
  {
   "cell_type": "code",
   "execution_count": 20,
   "metadata": {
    "collapsed": true
   },
   "outputs": [],
   "source": [
    "def lee_don_chen(g):\n",
    "    print(\"李東丞都欺負我\")"
   ]
  },
  {
   "cell_type": "code",
   "execution_count": 15,
   "metadata": {
    "collapsed": false
   },
   "outputs": [
    {
     "name": "stdout",
     "output_type": "stream",
     "text": [
      "李東丞都欺負我\n"
     ]
    }
   ],
   "source": [
    "lee_don_chen()"
   ]
  },
  {
   "cell_type": "code",
   "execution_count": 21,
   "metadata": {
    "collapsed": false
   },
   "outputs": [
    {
     "name": "stdout",
     "output_type": "stream",
     "text": [
      "input:hello\n",
      "李東丞都欺負我\n",
      "input:iii\n",
      "李東丞都欺負我\n",
      "input:hh\n",
      "李東丞都欺負我\n",
      "input:李東丞不欺負我了\n"
     ]
    }
   ],
   "source": [
    "while True:\n",
    "    hh = input(\"input:\")\n",
    "    if hh == \"李東丞不欺負我了\":\n",
    "        break\n",
    "    else:\n",
    "        lee_don_chen(hh) "
   ]
  },
  {
   "cell_type": "code",
   "execution_count": 22,
   "metadata": {
    "collapsed": false
   },
   "outputs": [
    {
     "name": "stdout",
     "output_type": "stream",
     "text": [
      "input:李東丞\n",
      "李東丞\n"
     ]
    }
   ],
   "source": [
    "def abc(hello):\n",
    "    return hello\n",
    "\n",
    "b=input(\"input:\")\n",
    "c=abc(b)\n",
    "print(c)"
   ]
  },
  {
   "cell_type": "code",
   "execution_count": 23,
   "metadata": {
    "collapsed": true
   },
   "outputs": [],
   "source": [
    "def aaa(*aa):\n",
    "    print(aa)"
   ]
  },
  {
   "cell_type": "code",
   "execution_count": 24,
   "metadata": {
    "collapsed": false
   },
   "outputs": [
    {
     "name": "stdout",
     "output_type": "stream",
     "text": [
      "('hello', 'djfil', 'iii', '1258', '33514')\n"
     ]
    }
   ],
   "source": [
    "aaa(\"hello\",\"djfil\",\"iii\",\"1258\",\"33514\")"
   ]
  },
  {
   "cell_type": "code",
   "execution_count": 25,
   "metadata": {
    "collapsed": true
   },
   "outputs": [],
   "source": [
    "def bbb(**aa):\n",
    "    print(\"hello:\", aa)\n",
    "    "
   ]
  },
  {
   "cell_type": "code",
   "execution_count": 27,
   "metadata": {
    "collapsed": false
   },
   "outputs": [
    {
     "name": "stdout",
     "output_type": "stream",
     "text": [
      "hello: {'he': '2', 'haaa': '3', 'hello': '1'}\n"
     ]
    }
   ],
   "source": [
    "bbb(hello = \"1\", he = \"2\", haaa=\"3\")"
   ]
  },
  {
   "cell_type": "code",
   "execution_count": 28,
   "metadata": {
    "collapsed": true
   },
   "outputs": [],
   "source": [
    "def echo(anything):\n",
    "    'this is a python program'\n",
    "    return anything"
   ]
  },
  {
   "cell_type": "code",
   "execution_count": 29,
   "metadata": {
    "collapsed": false
   },
   "outputs": [
    {
     "name": "stdout",
     "output_type": "stream",
     "text": [
      "Help on function echo in module __main__:\n",
      "\n",
      "echo(anything)\n",
      "    this is a python program\n",
      "\n"
     ]
    }
   ],
   "source": [
    "help(echo)"
   ]
  },
  {
   "cell_type": "code",
   "execution_count": 30,
   "metadata": {
    "collapsed": false
   },
   "outputs": [
    {
     "name": "stdout",
     "output_type": "stream",
     "text": [
      "this is a python program\n"
     ]
    }
   ],
   "source": [
    "print(echo.__doc__)"
   ]
  },
  {
   "cell_type": "code",
   "execution_count": 31,
   "metadata": {
    "collapsed": false
   },
   "outputs": [
    {
     "name": "stdout",
     "output_type": "stream",
     "text": [
      "Help on function bbb in module __main__:\n",
      "\n",
      "bbb(**aa)\n",
      "\n"
     ]
    }
   ],
   "source": [
    "help(bbb)"
   ]
  },
  {
   "cell_type": "code",
   "execution_count": 32,
   "metadata": {
    "collapsed": false
   },
   "outputs": [
    {
     "name": "stdout",
     "output_type": "stream",
     "text": [
      "None\n"
     ]
    }
   ],
   "source": [
    "print(bbb.__doc__)"
   ]
  },
  {
   "cell_type": "code",
   "execution_count": null,
   "metadata": {
    "collapsed": true
   },
   "outputs": [],
   "source": []
  }
 ],
 "metadata": {
  "kernelspec": {
   "display_name": "Python 3",
   "language": "python",
   "name": "python3"
  },
  "language_info": {
   "codemirror_mode": {
    "name": "ipython",
    "version": 3
   },
   "file_extension": ".py",
   "mimetype": "text/x-python",
   "name": "python",
   "nbconvert_exporter": "python",
   "pygments_lexer": "ipython3",
   "version": "3.4.3"
  }
 },
 "nbformat": 4,
 "nbformat_minor": 0
}
